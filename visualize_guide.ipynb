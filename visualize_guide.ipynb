{
 "cells": [
  {
   "cell_type": "code",
   "execution_count": null,
   "metadata": {},
   "outputs": [],
   "source": [
    "\"\"\"\n",
    "author: Bowen Chen\n",
    "mail: bowenc@sfu.ca\n",
    "Contact me if there is any issues.\n",
    "\n",
    "This is the notebook as a guide on how to use the script to regenerate the data visualization part in the porject.\n",
    "Include:\n",
    "1. number of patient vs the day they live for each cytokine\n",
    "2. mahanttan plot of the GWAS result\n",
    "\"\"\""
   ]
  },
  {
   "cell_type": "code",
   "execution_count": null,
   "metadata": {},
   "outputs": [],
   "source": [
    "# 1. number of patient vs the day they live for each cytokine. See cytokine_visual.py"
   ]
  },
  {
   "cell_type": "code",
   "execution_count": null,
   "metadata": {},
   "outputs": [],
   "source": [
    "import os\n",
    "import sys\n",
    "import math\n",
    "script_dir = os.path.split(os.path.realpath(__file__))[0]\n",
    "root_path = os.path.dirname(script_dir)\n",
    "data_path = os.path.join(root_path, \"data/\")\n",
    "export_path = os.path.join(root_path, \"visualization/cytokineVSpatient\")\n",
    "if not os.path.exists(export_path):\n",
    "    os.mkdir(export_path)\n",
    "# those path can be manually changed"
   ]
  },
  {
   "cell_type": "code",
   "execution_count": null,
   "metadata": {},
   "outputs": [],
   "source": [
    "import pandas as pd\n",
    "from pandas import ExcelWriter\n",
    "from pandas import ExcelFile\n",
    "\n",
    "df = pd.read_excel(os.path.join(data_path, 'Sepsis_patient_cytokine_levels.xlsx'), sheet_name='Sheet2')\n",
    "# read in data from excel"
   ]
  },
  {
   "cell_type": "code",
   "execution_count": null,
   "metadata": {},
   "outputs": [],
   "source": [
    "import numpy as np\n",
    "import matplotlib \n",
    "from sys import platform as _platform\n",
    "if _platform == \"darwin\":\n",
    "    # MAC OS X\n",
    "    matplotlib.use('TkAgg') \n",
    "import matplotlib.pyplot as pyplt\n",
    "import matplotlib.colors as colors\n",
    "import matplotlib.axis as axis\n",
    "import matplotlib.ticker as ticker\n",
    "\n",
    "pyplt.style.use('ggplot')\n",
    "\n",
    "# plot number of patient in each cytokine level\n",
    "for cytokine in df.columns[1:]:\n",
    "    data_list = [] # {cytokine_level:numer of patient}\n",
    "    for index in df.index:\n",
    "        data = df[cytokine][index]\n",
    "        if math.isnan(data):\n",
    "            continue\n",
    "        data_list.append(data)\n",
    "    fig = pyplt.figure()\n",
    "    ax = fig.add_subplot(111)\n",
    "    n, bins, patches = ax.hist(data_list, bins=len(data_list))\n",
    "    # color the plot\n",
    "    fracs = n / n.max()\n",
    "    norm = colors.Normalize(fracs.min(), fracs.max())\n",
    "    for thisfrac, thispatch in zip(fracs, patches):\n",
    "        color = pyplt.cm.viridis(norm(thisfrac))\n",
    "        thispatch.set_facecolor(color)\n",
    "\n",
    "    pyplt.xlabel('cytokine level')\n",
    "    pyplt.ylabel('#patient')\n",
    "    pyplt.title('Histogram - ' + cytokine)\n",
    "    pyplt.grid(True)\n",
    "    fig.savefig(os.path.join(export_path, cytokine + '.png'))"
   ]
  },
  {
   "cell_type": "code",
   "execution_count": null,
   "metadata": {},
   "outputs": [],
   "source": [
    "%%bash\n",
    "# if you want to run the script above in the bash shell\n",
    "# use python3\n",
    "# dependency like pandas and matplotlib needs to be preinstalled\n",
    "python cytokine_visual.py"
   ]
  },
  {
   "cell_type": "code",
   "execution_count": null,
   "metadata": {},
   "outputs": [],
   "source": [
    "# 2. generate mahanttan plot of the GWAS result"
   ]
  },
  {
   "cell_type": "code",
   "execution_count": null,
   "metadata": {},
   "outputs": [],
   "source": [
    "%%R\n",
    "input_file = \"data/EGF.assoc\"\n",
    "output_file = \"data/manhattan_GWAS/EGF_GWAS.png\"\n",
    "# to detect whether the pkg is preinstalled\n",
    "is.installed <- function(mypkg) is.element(mypkg, installed.packages()[,1]) \n",
    "if (!is.installed('qqman')){\n",
    "    install.packages('qqman', repo='http://cran.r-project.org') # This only needs to be done once\n",
    "    # try install.packages('qqman') without repo if not work\n",
    "}\n",
    "data<-read.table(file=input_file, header=T)\n",
    "library('qqman')\n",
    "data<-na.omit(data) # drop NaN's\n",
    "png(filename=output_file)\n",
    "manhattan(data)\n",
    "dev.off()"
   ]
  },
  {
   "cell_type": "code",
   "execution_count": null,
   "metadata": {},
   "outputs": [],
   "source": [
    "%%bash\n",
    "# if you want to run the script in the bash shell\n",
    "# see script version manhattan.R\n",
    "# example of use\n",
    "Rscript --vanilla manhattan.R data/EGF.assoc data/manhattan_GWAS/EGF_GWAS.png"
   ]
  }
 ],
 "metadata": {
  "kernelspec": {
   "display_name": "Python 3",
   "language": "python",
   "name": "python3"
  },
  "language_info": {
   "codemirror_mode": {
    "name": "ipython",
    "version": 3
   },
   "file_extension": ".py",
   "mimetype": "text/x-python",
   "name": "python",
   "nbconvert_exporter": "python",
   "pygments_lexer": "ipython3",
   "version": "3.6.5"
  }
 },
 "nbformat": 4,
 "nbformat_minor": 2
}
